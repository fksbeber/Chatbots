{
  "nbformat": 4,
  "nbformat_minor": 0,
  "metadata": {
    "colab": {
      "name": "Chatbots - trabalho 1.ipynb",
      "provenance": [],
      "collapsed_sections": []
    },
    "kernelspec": {
      "name": "python3",
      "display_name": "Python 3"
    },
    "language_info": {
      "name": "python"
    }
  },
  "cells": [
    {
      "cell_type": "markdown",
      "metadata": {
        "id": "5kJC0iB9l91V"
      },
      "source": [
        "# Análise de sentimentos dos reviews do imdb\n",
        "O notebook abaixo demonstra um experimento para comparar os resultados de um classificador treinado nos dados de review do imdb vs uma solução pronta da biblioteca nltk na tarefa de análises de sentimento."
      ]
    },
    {
      "cell_type": "code",
      "metadata": {
        "colab": {
          "base_uri": "https://localhost:8080/"
        },
        "id": "z8D3Q-g9Ps-y",
        "outputId": "5963b696-af18-45b8-f8b0-20dfd9cc8e11"
      },
      "source": [
        "import pandas as pd\n",
        "import nltk\n",
        "import csv\n",
        "import re\n",
        "\n",
        "nltk.download('stopwords') # Lista de stopwords\n",
        "nltk.download('vader_lexicon') # Polarity score "
      ],
      "execution_count": 25,
      "outputs": [
        {
          "output_type": "stream",
          "text": [
            "[nltk_data] Downloading package stopwords to /root/nltk_data...\n",
            "[nltk_data]   Package stopwords is already up-to-date!\n",
            "[nltk_data] Downloading package vader_lexicon to /root/nltk_data...\n",
            "[nltk_data]   Package vader_lexicon is already up-to-date!\n"
          ],
          "name": "stdout"
        },
        {
          "output_type": "execute_result",
          "data": {
            "text/plain": [
              "True"
            ]
          },
          "metadata": {
            "tags": []
          },
          "execution_count": 25
        }
      ]
    },
    {
      "cell_type": "markdown",
      "metadata": {
        "id": "xrCnOgbVltbG"
      },
      "source": [
        "## Pré-processamento do conjunto de dados\n",
        "Os dados estão fora de padrão para serem carregados diretamente em um Data Frame. Por isso, o arquivo é aberto manualmente e tratado para que seja possível carregá-lo.."
      ]
    },
    {
      "cell_type": "code",
      "metadata": {
        "id": "VINXfZ9ZlrdM"
      },
      "source": [
        "inputs = list()\n",
        "outputs = list()\n",
        "with open('imdb.csv') as csv_file:\n",
        "  reader = csv.reader(csv_file, delimiter=',', quoting=csv.QUOTE_NONE)\n",
        "  header = next(reader)\n",
        "  \n",
        "  for i, row in enumerate(reader):\n",
        "    sentiment = row[-1].replace('\\\"', '').replace(';', '').replace('\\'', '')\n",
        "    text = ','.join(row[:-1]).replace('\\\"', '').replace('\\'', '')\n",
        "    \n",
        "    inputs.append(text)\n",
        "    outputs.append(sentiment)"
      ],
      "execution_count": 26,
      "outputs": []
    },
    {
      "cell_type": "code",
      "metadata": {
        "colab": {
          "base_uri": "https://localhost:8080/",
          "height": 419
        },
        "id": "cwTf6tIHpTuh",
        "outputId": "ea06c9c1-881c-4d12-d78d-d17f60a77345"
      },
      "source": [
        "df_imdb = pd.DataFrame.from_dict(dict(zip(header, [inputs, outputs])))\n",
        "df_imdb.rename({'review': 'Review', 'sentiment;;;;;;':'Sentiment'}, axis=1, inplace=True)\n",
        "df_imdb"
      ],
      "execution_count": 27,
      "outputs": [
        {
          "output_type": "execute_result",
          "data": {
            "text/html": [
              "<div>\n",
              "<style scoped>\n",
              "    .dataframe tbody tr th:only-of-type {\n",
              "        vertical-align: middle;\n",
              "    }\n",
              "\n",
              "    .dataframe tbody tr th {\n",
              "        vertical-align: top;\n",
              "    }\n",
              "\n",
              "    .dataframe thead th {\n",
              "        text-align: right;\n",
              "    }\n",
              "</style>\n",
              "<table border=\"1\" class=\"dataframe\">\n",
              "  <thead>\n",
              "    <tr style=\"text-align: right;\">\n",
              "      <th></th>\n",
              "      <th>Review</th>\n",
              "      <th>Sentiment</th>\n",
              "    </tr>\n",
              "  </thead>\n",
              "  <tbody>\n",
              "    <tr>\n",
              "      <th>0</th>\n",
              "      <td>One of the other reviewers has mentioned that ...</td>\n",
              "      <td>positive</td>\n",
              "    </tr>\n",
              "    <tr>\n",
              "      <th>1</th>\n",
              "      <td>A wonderful little production. &lt;br /&gt;&lt;br /&gt;The...</td>\n",
              "      <td>positive</td>\n",
              "    </tr>\n",
              "    <tr>\n",
              "      <th>2</th>\n",
              "      <td>I thought this was a wonderful way to spend ti...</td>\n",
              "      <td>positive</td>\n",
              "    </tr>\n",
              "    <tr>\n",
              "      <th>3</th>\n",
              "      <td>Basically theres a family where a little boy (...</td>\n",
              "      <td>negative</td>\n",
              "    </tr>\n",
              "    <tr>\n",
              "      <th>4</th>\n",
              "      <td>Petter Matteis Love in the Time of Money is a ...</td>\n",
              "      <td>positive</td>\n",
              "    </tr>\n",
              "    <tr>\n",
              "      <th>...</th>\n",
              "      <td>...</td>\n",
              "      <td>...</td>\n",
              "    </tr>\n",
              "    <tr>\n",
              "      <th>49995</th>\n",
              "      <td>I thought this movie did a down right good job...</td>\n",
              "      <td>positive</td>\n",
              "    </tr>\n",
              "    <tr>\n",
              "      <th>49996</th>\n",
              "      <td>Bad plot, bad dialogue, bad acting, idiotic di...</td>\n",
              "      <td>negative</td>\n",
              "    </tr>\n",
              "    <tr>\n",
              "      <th>49997</th>\n",
              "      <td>I am a Catholic taught in parochial elementary...</td>\n",
              "      <td>negative</td>\n",
              "    </tr>\n",
              "    <tr>\n",
              "      <th>49998</th>\n",
              "      <td>Im going to have to disagree with the previous...</td>\n",
              "      <td>negative</td>\n",
              "    </tr>\n",
              "    <tr>\n",
              "      <th>49999</th>\n",
              "      <td>No one expects the Star Trek movies to be high...</td>\n",
              "      <td>negative</td>\n",
              "    </tr>\n",
              "  </tbody>\n",
              "</table>\n",
              "<p>50000 rows × 2 columns</p>\n",
              "</div>"
            ],
            "text/plain": [
              "                                                  Review Sentiment\n",
              "0      One of the other reviewers has mentioned that ...  positive\n",
              "1      A wonderful little production. <br /><br />The...  positive\n",
              "2      I thought this was a wonderful way to spend ti...  positive\n",
              "3      Basically theres a family where a little boy (...  negative\n",
              "4      Petter Matteis Love in the Time of Money is a ...  positive\n",
              "...                                                  ...       ...\n",
              "49995  I thought this movie did a down right good job...  positive\n",
              "49996  Bad plot, bad dialogue, bad acting, idiotic di...  negative\n",
              "49997  I am a Catholic taught in parochial elementary...  negative\n",
              "49998  Im going to have to disagree with the previous...  negative\n",
              "49999  No one expects the Star Trek movies to be high...  negative\n",
              "\n",
              "[50000 rows x 2 columns]"
            ]
          },
          "metadata": {
            "tags": []
          },
          "execution_count": 27
        }
      ]
    },
    {
      "cell_type": "markdown",
      "metadata": {
        "id": "rk6BnuN-FtGQ"
      },
      "source": [
        "## Pré-processamento de texto\n",
        "Construção de um método para fazer a limpeza do texto através da remoção de tags html, pontuação, símbolos e padronização dos números. Após a tokenização as stopwords são removidas, o texto é transformado em lowercase e as palavras são reduzidas ao seu radical. "
      ]
    },
    {
      "cell_type": "code",
      "metadata": {
        "id": "1rjM4a70M8uD"
      },
      "source": [
        "re_strip_html = re.compile('(<|</).+?(/>|>)') # Expressão regular para tags html\n",
        "re_strip_punct = re.compile('[^a-zA-Z0-9]') # Expressão regular para pontuação e símbolos\n",
        "re_strip_numbers = re.compile('[0-9]') # Expressão regular para números\n",
        "\n",
        "stopwords = nltk.corpus.stopwords.words('english')\n",
        "stopwords = set(stopwords)\n",
        "\n",
        "stemmer = nltk.stem.PorterStemmer()"
      ],
      "execution_count": 28,
      "outputs": []
    },
    {
      "cell_type": "code",
      "metadata": {
        "id": "C2qq1tgUpouO"
      },
      "source": [
        "def preprocess_reviews(\n",
        "    sentence,\n",
        "    re_strip_html,\n",
        "    re_strip_punct,\n",
        "    re_strip_numbers,\n",
        "    stopwords,\n",
        "    stemmer\n",
        "):\n",
        "  # Aplica a limpeza de tags html, pontuação, símbolos e padronização \n",
        "  # dos números\n",
        "  sentence = re_strip_html.sub('', sentence)\n",
        "  sentence = re_strip_punct.sub(' ', sentence)\n",
        "  sentence = re_strip_numbers.sub(' <NUMBER> ', sentence)\n",
        "  # Elimina os espaços duplos entre as palavras, tranforma em lower case e \n",
        "  # filtra as stopwords\n",
        "  sentence = ' '.join([ \n",
        "    word.lower() for word in sentence.split() \n",
        "    if word.lower() not in stopwords \n",
        "  ])\n",
        "  # Quebra o texto e reduz as palavras ao seu radical\n",
        "  sentence = ' '.join([ \n",
        "    stemmer.stem(word) for word in sentence.split() \n",
        "  ])\n",
        "  return sentence"
      ],
      "execution_count": 29,
      "outputs": []
    },
    {
      "cell_type": "code",
      "metadata": {
        "colab": {
          "base_uri": "https://localhost:8080/",
          "height": 419
        },
        "id": "I5F9i9kW2HK7",
        "outputId": "33ba356b-1759-48bd-cf66-9cba11abc2e7"
      },
      "source": [
        "# Aplica o pré-processamento de texto e cria uma nova coluna no data frame\n",
        "df_imdb = df_imdb.assign(Cleaned_Review = df_imdb.Review.apply(lambda x: preprocess_reviews(\n",
        "    x,\n",
        "    re_strip_html,\n",
        "    re_strip_punct,\n",
        "    re_strip_numbers,\n",
        "    stopwords,\n",
        "    stemmer\n",
        ")))\n",
        "\n",
        "df_imdb"
      ],
      "execution_count": 30,
      "outputs": [
        {
          "output_type": "execute_result",
          "data": {
            "text/html": [
              "<div>\n",
              "<style scoped>\n",
              "    .dataframe tbody tr th:only-of-type {\n",
              "        vertical-align: middle;\n",
              "    }\n",
              "\n",
              "    .dataframe tbody tr th {\n",
              "        vertical-align: top;\n",
              "    }\n",
              "\n",
              "    .dataframe thead th {\n",
              "        text-align: right;\n",
              "    }\n",
              "</style>\n",
              "<table border=\"1\" class=\"dataframe\">\n",
              "  <thead>\n",
              "    <tr style=\"text-align: right;\">\n",
              "      <th></th>\n",
              "      <th>Review</th>\n",
              "      <th>Sentiment</th>\n",
              "      <th>Cleaned_Review</th>\n",
              "    </tr>\n",
              "  </thead>\n",
              "  <tbody>\n",
              "    <tr>\n",
              "      <th>0</th>\n",
              "      <td>One of the other reviewers has mentioned that ...</td>\n",
              "      <td>positive</td>\n",
              "      <td>one review mention watch &lt;number&gt; oz episod yo...</td>\n",
              "    </tr>\n",
              "    <tr>\n",
              "      <th>1</th>\n",
              "      <td>A wonderful little production. &lt;br /&gt;&lt;br /&gt;The...</td>\n",
              "      <td>positive</td>\n",
              "      <td>wonder littl product film techniqu unassum old...</td>\n",
              "    </tr>\n",
              "    <tr>\n",
              "      <th>2</th>\n",
              "      <td>I thought this was a wonderful way to spend ti...</td>\n",
              "      <td>positive</td>\n",
              "      <td>thought wonder way spend time hot summer weeke...</td>\n",
              "    </tr>\n",
              "    <tr>\n",
              "      <th>3</th>\n",
              "      <td>Basically theres a family where a little boy (...</td>\n",
              "      <td>negative</td>\n",
              "      <td>basic there famili littl boy jake think there ...</td>\n",
              "    </tr>\n",
              "    <tr>\n",
              "      <th>4</th>\n",
              "      <td>Petter Matteis Love in the Time of Money is a ...</td>\n",
              "      <td>positive</td>\n",
              "      <td>petter mattei love time money visual stun film...</td>\n",
              "    </tr>\n",
              "    <tr>\n",
              "      <th>...</th>\n",
              "      <td>...</td>\n",
              "      <td>...</td>\n",
              "      <td>...</td>\n",
              "    </tr>\n",
              "    <tr>\n",
              "      <th>49995</th>\n",
              "      <td>I thought this movie did a down right good job...</td>\n",
              "      <td>positive</td>\n",
              "      <td>thought movi right good job wasnt creativ orig...</td>\n",
              "    </tr>\n",
              "    <tr>\n",
              "      <th>49996</th>\n",
              "      <td>Bad plot, bad dialogue, bad acting, idiotic di...</td>\n",
              "      <td>negative</td>\n",
              "      <td>bad plot bad dialogu bad act idiot direct anno...</td>\n",
              "    </tr>\n",
              "    <tr>\n",
              "      <th>49997</th>\n",
              "      <td>I am a Catholic taught in parochial elementary...</td>\n",
              "      <td>negative</td>\n",
              "      <td>cathol taught parochi elementari school nun ta...</td>\n",
              "    </tr>\n",
              "    <tr>\n",
              "      <th>49998</th>\n",
              "      <td>Im going to have to disagree with the previous...</td>\n",
              "      <td>negative</td>\n",
              "      <td>im go disagre previou comment side maltin one ...</td>\n",
              "    </tr>\n",
              "    <tr>\n",
              "      <th>49999</th>\n",
              "      <td>No one expects the Star Trek movies to be high...</td>\n",
              "      <td>negative</td>\n",
              "      <td>one expect star trek movi high art fan expect ...</td>\n",
              "    </tr>\n",
              "  </tbody>\n",
              "</table>\n",
              "<p>50000 rows × 3 columns</p>\n",
              "</div>"
            ],
            "text/plain": [
              "                                                  Review  ...                                     Cleaned_Review\n",
              "0      One of the other reviewers has mentioned that ...  ...  one review mention watch <number> oz episod yo...\n",
              "1      A wonderful little production. <br /><br />The...  ...  wonder littl product film techniqu unassum old...\n",
              "2      I thought this was a wonderful way to spend ti...  ...  thought wonder way spend time hot summer weeke...\n",
              "3      Basically theres a family where a little boy (...  ...  basic there famili littl boy jake think there ...\n",
              "4      Petter Matteis Love in the Time of Money is a ...  ...  petter mattei love time money visual stun film...\n",
              "...                                                  ...  ...                                                ...\n",
              "49995  I thought this movie did a down right good job...  ...  thought movi right good job wasnt creativ orig...\n",
              "49996  Bad plot, bad dialogue, bad acting, idiotic di...  ...  bad plot bad dialogu bad act idiot direct anno...\n",
              "49997  I am a Catholic taught in parochial elementary...  ...  cathol taught parochi elementari school nun ta...\n",
              "49998  Im going to have to disagree with the previous...  ...  im go disagre previou comment side maltin one ...\n",
              "49999  No one expects the Star Trek movies to be high...  ...  one expect star trek movi high art fan expect ...\n",
              "\n",
              "[50000 rows x 3 columns]"
            ]
          },
          "metadata": {
            "tags": []
          },
          "execution_count": 30
        }
      ]
    },
    {
      "cell_type": "markdown",
      "metadata": {
        "id": "GEeCZ_zIGRDc"
      },
      "source": [
        "## Experimentação\n",
        "No presente experimento será feita uma seleção de modelos e parametrizações em um dataset de holdout. O conjunto de dados será dividido entre 70% de dados para o treino e 30% de dados para o teste. Será utilizada a estatística tf-idf para representar o texto. Serão variados o número de n-gramas e será aplicada seleção de features para uma redução de dimensionalidade e controle de overfitting. "
      ]
    },
    {
      "cell_type": "code",
      "metadata": {
        "colab": {
          "base_uri": "https://localhost:8080/"
        },
        "id": "QfM_YTFb9PX-",
        "outputId": "8b0d412c-c184-4ca7-e370-755637baa0d1"
      },
      "source": [
        "# Verificando a proporção dos sentimentos\n",
        "# Não há necessidade de aplicar ajustes por conta do balanceamento\n",
        "# A acurácia pode ser usada como métrica de avaliação\n",
        "df_imdb.Sentiment.value_counts()"
      ],
      "execution_count": 31,
      "outputs": [
        {
          "output_type": "execute_result",
          "data": {
            "text/plain": [
              "negative    25000\n",
              "positive    25000\n",
              "Name: Sentiment, dtype: int64"
            ]
          },
          "metadata": {
            "tags": []
          },
          "execution_count": 31
        }
      ]
    },
    {
      "cell_type": "code",
      "metadata": {
        "colab": {
          "base_uri": "https://localhost:8080/"
        },
        "id": "Hb1IV1N8-ug9",
        "outputId": "15b3d2f2-9148-473e-fcfa-bf04a85375bb"
      },
      "source": [
        "from sklearn.feature_extraction.text import TfidfVectorizer\n",
        "from sklearn.model_selection import train_test_split\n",
        "from sklearn.model_selection import GridSearchCV\n",
        "from sklearn.feature_selection import SelectKBest\n",
        "from sklearn.feature_selection import chi2\n",
        "from sklearn.linear_model import LogisticRegression\n",
        "from sklearn.svm import LinearSVC\n",
        "from sklearn.metrics import accuracy_score\n",
        "\n",
        "def build_features(df_train, df_test, n_gram_range):\n",
        "  tf_idf_vectorizer = TfidfVectorizer(\n",
        "      ngram_range=n_gram_range, # Criar tokens a partir da combinação de n-palavras\n",
        "      min_df=25 # Valor mínimo de reviews que a palavra deve aparecer\n",
        "  )\n",
        "\n",
        "  x_train = tf_idf_vectorizer.fit_transform(df_train.Cleaned_Review)\n",
        "  x_test = tf_idf_vectorizer.transform(df_test.Cleaned_Review)\n",
        "  y_train = df_train.Sentiment\n",
        "  y_test = df_test.Sentiment\n",
        "\n",
        "  return x_train, y_train, x_test, y_test\n",
        "\n",
        "def build_models(algorithm):\n",
        "  model = None\n",
        "  \n",
        "  if algorithm == 'lr':\n",
        "    model = GridSearchCV(\n",
        "        LogisticRegression(n_jobs=-1),\n",
        "        param_grid={\n",
        "            'C': [0.01, 0.1, 1, 10, 100]\n",
        "        },\n",
        "        scoring='accuracy',\n",
        "        n_jobs=-1\n",
        "    )\n",
        "  elif algorithm == 'svm':\n",
        "    model = GridSearchCV(\n",
        "        LinearSVC(),\n",
        "        param_grid={\n",
        "            'C': [0.01, 0.1, 1, 10, 100]\n",
        "        },\n",
        "        scoring='accuracy',\n",
        "        n_jobs=-1\n",
        "    ) \n",
        "  else:\n",
        "    raise Exception('Modelo não foi implementado')\n",
        "\n",
        "  return model\n",
        "  \n",
        "df_train, df_test = train_test_split(df_imdb, train_size=0.70)\n",
        "models = dict()\n",
        "for n_gram_range in [(1,1), (1,2)]:\n",
        "  feature_selector = SelectKBest(chi2, k=8000)\n",
        "  \n",
        "  x_train, y_train, x_test, y_test = build_features(df_train, df_test, n_gram_range)\n",
        "  x_train = feature_selector.fit_transform(x_train, y_train)\n",
        "  x_test = feature_selector.transform(x_test)\n",
        "\n",
        "  for algorithm in ['lr', 'svm']:\n",
        "    model = build_models(algorithm)\n",
        "    model.fit(x_train, y_train)\n",
        "\n",
        "    predicted_train = model.predict(x_train)\n",
        "    predicted_test = model.predict(x_test)\n",
        "\n",
        "    accuracy_train = accuracy_score(y_train, predicted_train)\n",
        "    accuracy_test = accuracy_score(y_test, predicted_test)\n",
        "    \n",
        "    print('Algorithm: {}\\nN-Gram: {}\\nAccuracy Train: {}\\nAccuracy Test: {}\\n'.format(\n",
        "        algorithm, \n",
        "        n_gram_range[1],\n",
        "        accuracy_train,\n",
        "        accuracy_test\n",
        "    ))"
      ],
      "execution_count": 32,
      "outputs": [
        {
          "output_type": "stream",
          "text": [
            "Algorithm: lr\n",
            "N-Gram: 1\n",
            "Accuracy Train: 0.9158571428571428\n",
            "Accuracy Test: 0.8909333333333334\n",
            "\n",
            "Algorithm: svm\n",
            "N-Gram: 1\n",
            "Accuracy Train: 0.9170857142857143\n",
            "Accuracy Test: 0.8920666666666667\n",
            "\n",
            "Algorithm: lr\n",
            "N-Gram: 2\n",
            "Accuracy Train: 0.9461714285714286\n",
            "Accuracy Test: 0.8991333333333333\n",
            "\n",
            "Algorithm: svm\n",
            "N-Gram: 2\n",
            "Accuracy Train: 0.9479142857142857\n",
            "Accuracy Test: 0.8991333333333333\n",
            "\n"
          ],
          "name": "stdout"
        }
      ]
    },
    {
      "cell_type": "markdown",
      "metadata": {
        "id": "ef-871cqqk4h"
      },
      "source": [
        "## Avaliação dos resultados\n",
        "Após executar o experimento de seleção de modelos, vamos treinar um classificador a partir da melhor configuração. Será feita a predição no conjunto de testes para posteriormente comparar a predição do modelo com o resultado obtido a partir do nltk."
      ]
    },
    {
      "cell_type": "code",
      "metadata": {
        "colab": {
          "base_uri": "https://localhost:8080/",
          "height": 453
        },
        "id": "acPzv3L4EkjQ",
        "outputId": "3b2fbb11-1db9-46ab-cc66-c82d109f2bde"
      },
      "source": [
        "df_train, df_test = train_test_split(df_imdb, train_size=0.70)\n",
        "x_train, y_train, x_test, y_test = build_features(df_train, df_test, (1,2))\n",
        "\n",
        "feature_selector = SelectKBest(chi2, k=8000)\n",
        "x_train = feature_selector.fit_transform(x_train, y_train)\n",
        "x_test = feature_selector.transform(x_test)\n",
        "\n",
        "model = build_models('lr')\n",
        "model.fit(x_train, y_train)\n",
        "\n",
        "predicted_test = model.predict(x_test)\n",
        "\n",
        "accuracy_train = accuracy_score(y_train, predicted_train)\n",
        "accuracy_test = accuracy_score(y_test, predicted_test)\n",
        "\n",
        "df_test = df_test.assign(Model_Prediction = predicted_test)\n",
        "df_test"
      ],
      "execution_count": 36,
      "outputs": [
        {
          "output_type": "execute_result",
          "data": {
            "text/html": [
              "<div>\n",
              "<style scoped>\n",
              "    .dataframe tbody tr th:only-of-type {\n",
              "        vertical-align: middle;\n",
              "    }\n",
              "\n",
              "    .dataframe tbody tr th {\n",
              "        vertical-align: top;\n",
              "    }\n",
              "\n",
              "    .dataframe thead th {\n",
              "        text-align: right;\n",
              "    }\n",
              "</style>\n",
              "<table border=\"1\" class=\"dataframe\">\n",
              "  <thead>\n",
              "    <tr style=\"text-align: right;\">\n",
              "      <th></th>\n",
              "      <th>Review</th>\n",
              "      <th>Sentiment</th>\n",
              "      <th>Cleaned_Review</th>\n",
              "      <th>Model_Prediction</th>\n",
              "    </tr>\n",
              "  </thead>\n",
              "  <tbody>\n",
              "    <tr>\n",
              "      <th>48802</th>\n",
              "      <td>This film stars Peter Lorre as an exceptionall...</td>\n",
              "      <td>positive</td>\n",
              "      <td>film star peter lorr except nice guy immigr am...</td>\n",
              "      <td>negative</td>\n",
              "    </tr>\n",
              "    <tr>\n",
              "      <th>11415</th>\n",
              "      <td>There are some great philosophical questions. ...</td>\n",
              "      <td>negative</td>\n",
              "      <td>great philosoph question purpos life happen di...</td>\n",
              "      <td>negative</td>\n",
              "    </tr>\n",
              "    <tr>\n",
              "      <th>42745</th>\n",
              "      <td>OK, so this film is well acted. It has good di...</td>\n",
              "      <td>negative</td>\n",
              "      <td>ok film well act good direct simpl fact underm...</td>\n",
              "      <td>negative</td>\n",
              "    </tr>\n",
              "    <tr>\n",
              "      <th>49547</th>\n",
              "      <td>There are four great movie depicting the Vietn...</td>\n",
              "      <td>positive</td>\n",
              "      <td>four great movi depict vietnam war particular ...</td>\n",
              "      <td>positive</td>\n",
              "    </tr>\n",
              "    <tr>\n",
              "      <th>33723</th>\n",
              "      <td>John Hughes wrote a lot of great comedies in t...</td>\n",
              "      <td>negative</td>\n",
              "      <td>john hugh wrote lot great comedi &lt;number&gt; &lt;num...</td>\n",
              "      <td>negative</td>\n",
              "    </tr>\n",
              "    <tr>\n",
              "      <th>...</th>\n",
              "      <td>...</td>\n",
              "      <td>...</td>\n",
              "      <td>...</td>\n",
              "      <td>...</td>\n",
              "    </tr>\n",
              "    <tr>\n",
              "      <th>10468</th>\n",
              "      <td>Plenty has been written about Mamets The House...</td>\n",
              "      <td>positive</td>\n",
              "      <td>plenti written mamet hous game good decid revi...</td>\n",
              "      <td>positive</td>\n",
              "    </tr>\n",
              "    <tr>\n",
              "      <th>38176</th>\n",
              "      <td>Ive tried to reconcile why so many bad reviews...</td>\n",
              "      <td>positive</td>\n",
              "      <td>ive tri reconcil mani bad review film vast maj...</td>\n",
              "      <td>positive</td>\n",
              "    </tr>\n",
              "    <tr>\n",
              "      <th>44623</th>\n",
              "      <td>Alain Resnais directs three parallel stories t...</td>\n",
              "      <td>negative</td>\n",
              "      <td>alain resnai direct three parallel stori fanta...</td>\n",
              "      <td>negative</td>\n",
              "    </tr>\n",
              "    <tr>\n",
              "      <th>1087</th>\n",
              "      <td>Maria Braun is an extraordinary woman presente...</td>\n",
              "      <td>positive</td>\n",
              "      <td>maria braun extraordinari woman present fulli ...</td>\n",
              "      <td>negative</td>\n",
              "    </tr>\n",
              "    <tr>\n",
              "      <th>356</th>\n",
              "      <td>Watched this last night and was bowled over by...</td>\n",
              "      <td>positive</td>\n",
              "      <td>watch last night bowl heartfelt stori line exc...</td>\n",
              "      <td>positive</td>\n",
              "    </tr>\n",
              "  </tbody>\n",
              "</table>\n",
              "<p>15000 rows × 4 columns</p>\n",
              "</div>"
            ],
            "text/plain": [
              "                                                  Review  ... Model_Prediction\n",
              "48802  This film stars Peter Lorre as an exceptionall...  ...         negative\n",
              "11415  There are some great philosophical questions. ...  ...         negative\n",
              "42745  OK, so this film is well acted. It has good di...  ...         negative\n",
              "49547  There are four great movie depicting the Vietn...  ...         positive\n",
              "33723  John Hughes wrote a lot of great comedies in t...  ...         negative\n",
              "...                                                  ...  ...              ...\n",
              "10468  Plenty has been written about Mamets The House...  ...         positive\n",
              "38176  Ive tried to reconcile why so many bad reviews...  ...         positive\n",
              "44623  Alain Resnais directs three parallel stories t...  ...         negative\n",
              "1087   Maria Braun is an extraordinary woman presente...  ...         negative\n",
              "356    Watched this last night and was bowled over by...  ...         positive\n",
              "\n",
              "[15000 rows x 4 columns]"
            ]
          },
          "metadata": {
            "tags": []
          },
          "execution_count": 36
        }
      ]
    },
    {
      "cell_type": "code",
      "metadata": {
        "colab": {
          "base_uri": "https://localhost:8080/",
          "height": 589
        },
        "id": "ZoZcrB7zKTrs",
        "outputId": "4ae90314-2513-47d2-f818-228a295e9813"
      },
      "source": [
        "from nltk.sentiment import SentimentIntensityAnalyzer\n",
        "sia = SentimentIntensityAnalyzer()\n",
        "\n",
        "def parse_sia_result(result):\n",
        "  if result['pos'] > result['neg']:\n",
        "    return 'positive'\n",
        "  else:\n",
        "    return 'negative'\n",
        "\n",
        "df_test = df_test.assign(SIA_Prediction = df_test.Review.apply(lambda x: parse_sia_result(sia.polarity_scores(x))))\n",
        "df_test"
      ],
      "execution_count": 37,
      "outputs": [
        {
          "output_type": "execute_result",
          "data": {
            "text/html": [
              "<div>\n",
              "<style scoped>\n",
              "    .dataframe tbody tr th:only-of-type {\n",
              "        vertical-align: middle;\n",
              "    }\n",
              "\n",
              "    .dataframe tbody tr th {\n",
              "        vertical-align: top;\n",
              "    }\n",
              "\n",
              "    .dataframe thead th {\n",
              "        text-align: right;\n",
              "    }\n",
              "</style>\n",
              "<table border=\"1\" class=\"dataframe\">\n",
              "  <thead>\n",
              "    <tr style=\"text-align: right;\">\n",
              "      <th></th>\n",
              "      <th>Review</th>\n",
              "      <th>Sentiment</th>\n",
              "      <th>Cleaned_Review</th>\n",
              "      <th>Model_Prediction</th>\n",
              "      <th>SIA_Prediction</th>\n",
              "    </tr>\n",
              "  </thead>\n",
              "  <tbody>\n",
              "    <tr>\n",
              "      <th>48802</th>\n",
              "      <td>This film stars Peter Lorre as an exceptionall...</td>\n",
              "      <td>positive</td>\n",
              "      <td>film star peter lorr except nice guy immigr am...</td>\n",
              "      <td>negative</td>\n",
              "      <td>positive</td>\n",
              "    </tr>\n",
              "    <tr>\n",
              "      <th>11415</th>\n",
              "      <td>There are some great philosophical questions. ...</td>\n",
              "      <td>negative</td>\n",
              "      <td>great philosoph question purpos life happen di...</td>\n",
              "      <td>negative</td>\n",
              "      <td>negative</td>\n",
              "    </tr>\n",
              "    <tr>\n",
              "      <th>42745</th>\n",
              "      <td>OK, so this film is well acted. It has good di...</td>\n",
              "      <td>negative</td>\n",
              "      <td>ok film well act good direct simpl fact underm...</td>\n",
              "      <td>negative</td>\n",
              "      <td>positive</td>\n",
              "    </tr>\n",
              "    <tr>\n",
              "      <th>49547</th>\n",
              "      <td>There are four great movie depicting the Vietn...</td>\n",
              "      <td>positive</td>\n",
              "      <td>four great movi depict vietnam war particular ...</td>\n",
              "      <td>positive</td>\n",
              "      <td>negative</td>\n",
              "    </tr>\n",
              "    <tr>\n",
              "      <th>33723</th>\n",
              "      <td>John Hughes wrote a lot of great comedies in t...</td>\n",
              "      <td>negative</td>\n",
              "      <td>john hugh wrote lot great comedi &lt;number&gt; &lt;num...</td>\n",
              "      <td>negative</td>\n",
              "      <td>positive</td>\n",
              "    </tr>\n",
              "    <tr>\n",
              "      <th>...</th>\n",
              "      <td>...</td>\n",
              "      <td>...</td>\n",
              "      <td>...</td>\n",
              "      <td>...</td>\n",
              "      <td>...</td>\n",
              "    </tr>\n",
              "    <tr>\n",
              "      <th>10468</th>\n",
              "      <td>Plenty has been written about Mamets The House...</td>\n",
              "      <td>positive</td>\n",
              "      <td>plenti written mamet hous game good decid revi...</td>\n",
              "      <td>positive</td>\n",
              "      <td>positive</td>\n",
              "    </tr>\n",
              "    <tr>\n",
              "      <th>38176</th>\n",
              "      <td>Ive tried to reconcile why so many bad reviews...</td>\n",
              "      <td>positive</td>\n",
              "      <td>ive tri reconcil mani bad review film vast maj...</td>\n",
              "      <td>positive</td>\n",
              "      <td>positive</td>\n",
              "    </tr>\n",
              "    <tr>\n",
              "      <th>44623</th>\n",
              "      <td>Alain Resnais directs three parallel stories t...</td>\n",
              "      <td>negative</td>\n",
              "      <td>alain resnai direct three parallel stori fanta...</td>\n",
              "      <td>negative</td>\n",
              "      <td>negative</td>\n",
              "    </tr>\n",
              "    <tr>\n",
              "      <th>1087</th>\n",
              "      <td>Maria Braun is an extraordinary woman presente...</td>\n",
              "      <td>positive</td>\n",
              "      <td>maria braun extraordinari woman present fulli ...</td>\n",
              "      <td>negative</td>\n",
              "      <td>negative</td>\n",
              "    </tr>\n",
              "    <tr>\n",
              "      <th>356</th>\n",
              "      <td>Watched this last night and was bowled over by...</td>\n",
              "      <td>positive</td>\n",
              "      <td>watch last night bowl heartfelt stori line exc...</td>\n",
              "      <td>positive</td>\n",
              "      <td>positive</td>\n",
              "    </tr>\n",
              "  </tbody>\n",
              "</table>\n",
              "<p>15000 rows × 5 columns</p>\n",
              "</div>"
            ],
            "text/plain": [
              "                                                  Review  ... SIA_Prediction\n",
              "48802  This film stars Peter Lorre as an exceptionall...  ...       positive\n",
              "11415  There are some great philosophical questions. ...  ...       negative\n",
              "42745  OK, so this film is well acted. It has good di...  ...       positive\n",
              "49547  There are four great movie depicting the Vietn...  ...       negative\n",
              "33723  John Hughes wrote a lot of great comedies in t...  ...       positive\n",
              "...                                                  ...  ...            ...\n",
              "10468  Plenty has been written about Mamets The House...  ...       positive\n",
              "38176  Ive tried to reconcile why so many bad reviews...  ...       positive\n",
              "44623  Alain Resnais directs three parallel stories t...  ...       negative\n",
              "1087   Maria Braun is an extraordinary woman presente...  ...       negative\n",
              "356    Watched this last night and was bowled over by...  ...       positive\n",
              "\n",
              "[15000 rows x 5 columns]"
            ]
          },
          "metadata": {
            "tags": []
          },
          "execution_count": 37
        }
      ]
    },
    {
      "cell_type": "markdown",
      "metadata": {
        "id": "LvaC7VXCq3zz"
      },
      "source": [
        "## Conclusão\n",
        "A partir da comparação do classificador treinado para resolver a tarefa de análise de sentimentos com a solução pronta do nltk, podemos observar os resultados superiores da nossa solução."
      ]
    },
    {
      "cell_type": "code",
      "metadata": {
        "colab": {
          "base_uri": "https://localhost:8080/"
        },
        "id": "zX8MzoNYKkue",
        "outputId": "038e12d4-9d19-4db4-ae02-5aff911ba90a"
      },
      "source": [
        "print('Model accuracy score: %.2f' % (accuracy_score(df_test.Sentiment, df_test.Model_Prediction) * 100))\n",
        "print('SIA accuracy score: %.2f' % (accuracy_score(df_test.Sentiment, df_test.SIA_Prediction) * 100))"
      ],
      "execution_count": 38,
      "outputs": [
        {
          "output_type": "stream",
          "text": [
            "Model accuracy score: 89.38\n",
            "SIA accuracy score: 69.00\n"
          ],
          "name": "stdout"
        }
      ]
    },
    {
      "cell_type": "code",
      "metadata": {
        "id": "IW39zdw9NEdu"
      },
      "source": [
        ""
      ],
      "execution_count": null,
      "outputs": []
    }
  ]
}